{
 "cells": [
  {
   "cell_type": "code",
   "execution_count": 1,
   "metadata": {},
   "outputs": [],
   "source": [
    "from nltk import tokenize\n",
    "from nltk import word_tokenize\n",
    "from collections import Counter\n",
    "import os\n",
    "import re\n",
    "# import spacy\n",
    "import pandas as pd\n",
    "import pickle\n",
    "import numpy as np\n",
    "from sklearn.model_selection import train_test_split\n",
    "from sklearn.feature_extraction.text import TfidfTransformer\n",
    "from sklearn.feature_extraction.text import TfidfVectorizer\n",
    "from sklearn.svm import LinearSVC\n",
    "from sklearn.pipeline import Pipeline\n",
    "from sklearn import metrics\n",
    "from textblob import TextBlob"
   ]
  },
  {
   "cell_type": "code",
   "execution_count": 2,
   "metadata": {},
   "outputs": [],
   "source": [
    "# nlp_pl = spacy.load(\"pl_core_news_lg\")\n",
    "tfidf_transformer = TfidfVectorizer()"
   ]
  },
  {
   "cell_type": "code",
   "execution_count": 7,
   "metadata": {},
   "outputs": [],
   "source": [
    "def classifier_factory(df, textcol, catcol):\n",
    "    df[textcol]=df[textcol].apply(str)\n",
    "    X = df[textcol]\n",
    "    y = df[catcol]\n",
    "    X_train, X_test, y_train, y_test = train_test_split(X, y, test_size=.33, random_state=42)\n",
    "    text_clf = Pipeline([(\"tfidf\", TfidfVectorizer()),(\"clf\", LinearSVC(max_iter=100000))])\n",
    "    text_clf.fit(X_train, y_train)\n",
    "    predictions = text_clf.predict(X_test)\n",
    "    print(f\"{metrics.accuracy_score(y_test, predictions):.4f}\")\n",
    "    score = metrics.accuracy_score(y_test, predictions)\n",
    "    return text_clf, score\n",
    "\n",
    "def load_and_transform(lang):\n",
    "    stories = pd.read_excel(f\"aoidos_{lang}/stories_{lang}.xlsx\")\n",
    "    not_stories = pd.read_excel(f\"aoidos_{lang}/not_stories_{lang}.xlsx\")\n",
    "    stories[\"tag\"] = 1\n",
    "    not_stories[\"tag\"] = 0\n",
    "    return pd.concat([stories, not_stories]).sample(frac=1)\n",
    "\n",
    "def dump_model(model, lang):\n",
    "    pkl_filename = f\"aoidos_{lang}/aoidos_{lang}.pkl\"\n",
    "    with open(pkl_filename, 'wb') as file:\n",
    "        pickle.dump(model, file)\n",
    "        \n",
    "def load_model(lang):\n",
    "    pkl_filename = f\"aoidos_{lang}/aoidos_{lang}.pkl\"\n",
    "    with open(pkl_filename, 'rb') as file:\n",
    "        pickle_model = pickle.load(file)\n",
    "    return pickle_model\n",
    "\n",
    "def test_on_csv(path, model, lang, textcol=\"Treść wypowiedzi\"):\n",
    "    test_set = pd.read_csv(path, sep=\";\", engine=\"c\", usecols=[textcol, \"Rodzaj wzmianki\"])\n",
    "    if \"Rodzaj wzmianki\" in test_set.columns:\n",
    "        test_set = test_set[test_set[\"Rodzaj wzmianki\"] != \"Artykuł\"]\n",
    "    test_set = test_set.drop_duplicates(subset=textcol)\n",
    "    test_set[textcol] = test_set[textcol].apply(str)    \n",
    "    test_set[\"tags\"] = test_set[textcol].apply(lambda x: model.predict([x]))\n",
    "    print(test_set[\"tags\"].apply(lambda x: x[0]).value_counts(normalize=True))\n",
    "    test_set = test_set[[\"Treść wypowiedzi\",\"tags\"]]\n",
    "    test_set = test_set[test_set[\"Treść wypowiedzi\"].apply(len)>100]\n",
    "    \n",
    "    test_set.to_excel(f\"aoidos_{lang}/test_results_{lang}.xlsx\")\n",
    "    "
   ]
  },
  {
   "cell_type": "code",
   "execution_count": 8,
   "metadata": {},
   "source": [
    "df_pl = load_and_transform(\"pl\")\n",
    "aoidos_pl, score = classifier_factory(df_pl, \"text\", \"tag\")\n",
    "\n",
    "while score < 0.94:\n",
    "    df_pl = load_and_transform(\"pl\")\n",
    "    aoidos_pl, score = classifier_factory(df_pl, \"text\", \"tag\")\n",
    "x = dump_model(aoidos_pl, \"pl\")\n"
   ]
  },
  {
   "cell_type": "code",
   "execution_count": 37,
   "metadata": {},
   "outputs": [
    {
     "name": "stdout",
     "output_type": "stream",
     "text": [
      "0.9675\n"
     ]
    }
   ],
   "source": [
    "df_en = load_and_transform(\"en\")\n",
    "aoidos_en = classifier_factory(df_en, \"text\", \"tag\")[0]\n",
    "dump_model(aoidos_en, \"en\")"
   ]
  },
  {
   "cell_type": "code",
   "execution_count": 6,
   "metadata": {},
   "outputs": [
    {
     "name": "stdout",
     "output_type": "stream",
     "text": [
      "0    0.977856\n",
      "1    0.022144\n",
      "Name: tags, dtype: float64\n"
     ]
    }
   ],
   "source": [
    "test_on_csv('~\\\\desktop\\\\dat.csv', aoidos_pl, 'pl')"
   ]
  },
  {
   "cell_type": "code",
   "execution_count": null,
   "metadata": {},
   "outputs": [],
   "source": []
  }
 ],
 "metadata": {
  "kernelspec": {
   "display_name": "Python 3",
   "language": "python",
   "name": "python3"
  },
  "language_info": {
   "codemirror_mode": {
    "name": "ipython",
    "version": 3
   },
   "file_extension": ".py",
   "mimetype": "text/x-python",
   "name": "python",
   "nbconvert_exporter": "python",
   "pygments_lexer": "ipython3",
   "version": "3.7.6"
  }
 },
 "nbformat": 4,
 "nbformat_minor": 4
}
